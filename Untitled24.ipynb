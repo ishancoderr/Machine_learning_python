{
  "nbformat": 4,
  "nbformat_minor": 0,
  "metadata": {
    "colab": {
      "name": "Untitled24.ipynb",
      "provenance": [],
      "authorship_tag": "ABX9TyO+pPLP8IHUhvqA9pZ+Kb+j",
      "include_colab_link": true
    },
    "kernelspec": {
      "name": "python3",
      "display_name": "Python 3"
    },
    "language_info": {
      "name": "python"
    }
  },
  "cells": [
    {
      "cell_type": "markdown",
      "metadata": {
        "id": "view-in-github",
        "colab_type": "text"
      },
      "source": [
        "<a href=\"https://colab.research.google.com/github/ishancoderr/Machine_learning_python/blob/main/Untitled24.ipynb\" target=\"_parent\"><img src=\"https://colab.research.google.com/assets/colab-badge.svg\" alt=\"Open In Colab\"/></a>"
      ]
    },
    {
      "cell_type": "code",
      "metadata": {
        "id": "ZFPaWH9INizT"
      },
      "source": [
        "def reverse(s):\n",
        "  if len(s)<=1:\n",
        "    return s\n",
        "  \n",
        "  return reverse(s[1:])+ s[0]\n"
      ],
      "execution_count": 6,
      "outputs": []
    },
    {
      "cell_type": "code",
      "metadata": {
        "colab": {
          "base_uri": "https://localhost:8080/",
          "height": 35
        },
        "id": "f06Aja6EPxVw",
        "outputId": "9a53eabb-686a-46e0-c8ca-9b0351b0ad85"
      },
      "source": [
        " s = 'Hello, Worrd'\n",
        " s[::1]"
      ],
      "execution_count": 24,
      "outputs": [
        {
          "output_type": "execute_result",
          "data": {
            "application/vnd.google.colaboratory.intrinsic+json": {
              "type": "string"
            },
            "text/plain": [
              "'He'"
            ]
          },
          "metadata": {
            "tags": []
          },
          "execution_count": 24
        }
      ]
    },
    {
      "cell_type": "code",
      "metadata": {
        "colab": {
          "base_uri": "https://localhost:8080/",
          "height": 35
        },
        "id": "8v0d-FyHO026",
        "outputId": "2c506e5e-b853-4d4f-fd02-62e65a975851"
      },
      "source": [
        "reverse('ishan weerakoon')"
      ],
      "execution_count": 7,
      "outputs": [
        {
          "output_type": "execute_result",
          "data": {
            "application/vnd.google.colaboratory.intrinsic+json": {
              "type": "string"
            },
            "text/plain": [
              "'nookareew nahsi'"
            ]
          },
          "metadata": {
            "tags": []
          },
          "execution_count": 7
        }
      ]
    },
    {
      "cell_type": "code",
      "metadata": {
        "id": "dctvmS9XYgBz"
      },
      "source": [
        "def permute(s):\n",
        "  if len(s) == 1:\n",
        "    out=[s]\n",
        "  \n",
        "  else:\n",
        "    out=''\n",
        "    for i,let in enumerate(s):\n",
        "      for perm in permute(s[:i]+s[i+1:]):\n",
        "        print ('Current letter is: ',let)\n",
        "        print ('perm is',perm)\n",
        "        print(let+perm)\n",
        "        out += let+perm\n",
        "  return out"
      ],
      "execution_count": 73,
      "outputs": []
    },
    {
      "cell_type": "code",
      "metadata": {
        "colab": {
          "base_uri": "https://localhost:8080/",
          "height": 142
        },
        "id": "dx4kdUTYkekn",
        "outputId": "c030086f-a8e8-4848-f6a2-5775b8506da0"
      },
      "source": [
        "permute('53')"
      ],
      "execution_count": 75,
      "outputs": [
        {
          "output_type": "stream",
          "text": [
            "Current letter is:  5\n",
            "perm is 3\n",
            "53\n",
            "Current letter is:  3\n",
            "perm is 5\n",
            "35\n"
          ],
          "name": "stdout"
        },
        {
          "output_type": "execute_result",
          "data": {
            "application/vnd.google.colaboratory.intrinsic+json": {
              "type": "string"
            },
            "text/plain": [
              "'5335'"
            ]
          },
          "metadata": {
            "tags": []
          },
          "execution_count": 75
        }
      ]
    },
    {
      "cell_type": "code",
      "metadata": {
        "id": "FxNI-6Q4zyHH"
      },
      "source": [
        "def BinaryTree(r):\n",
        "  return [r,[],[]]"
      ],
      "execution_count": 76,
      "outputs": []
    },
    {
      "cell_type": "code",
      "metadata": {
        "id": "fxIKXY3q97Ex"
      },
      "source": [
        "def insertLeft(root,newBranch):\n",
        "  t=root.pop(1)\n",
        "\n",
        "  if len(t) > 1:\n",
        "    root.insert(1,[newBranch,t,[]])\n",
        "  else:\n",
        "    root.insert(1,[newBranch,[],[]])\n",
        "  \n",
        "  return root"
      ],
      "execution_count": 88,
      "outputs": []
    },
    {
      "cell_type": "code",
      "metadata": {
        "id": "lV4Fyv7g-wO4"
      },
      "source": [
        "def insertRight(root,newBranch):\n",
        "  t=root.pop(2)\n",
        "  if len(t) > 1:\n",
        "    root.insert(2,[newBranch,[],t])\n",
        "  else:\n",
        "    root.insert(2,[newBranch,[],[]])\n",
        "  return root"
      ],
      "execution_count": 98,
      "outputs": []
    },
    {
      "cell_type": "code",
      "metadata": {
        "id": "RukmcyTuA_o4"
      },
      "source": [
        "def getRootVal(root):\n",
        "  return root[0]"
      ],
      "execution_count": 99,
      "outputs": []
    },
    {
      "cell_type": "code",
      "metadata": {
        "id": "qBfby0ILBl7_"
      },
      "source": [
        "def setRootVal(root,newVal):\n",
        "  root[0]=newVal"
      ],
      "execution_count": 100,
      "outputs": []
    },
    {
      "cell_type": "code",
      "metadata": {
        "id": "KYOBchgrB82O"
      },
      "source": [
        "def getLeftChild(root):\n",
        "  return root[1]"
      ],
      "execution_count": 101,
      "outputs": []
    },
    {
      "cell_type": "code",
      "metadata": {
        "id": "qhTxFpbbCjcv"
      },
      "source": [
        "r=BinaryTree(3)"
      ],
      "execution_count": 102,
      "outputs": []
    },
    {
      "cell_type": "code",
      "metadata": {
        "colab": {
          "base_uri": "https://localhost:8080/"
        },
        "id": "g-Hr4q47D23m",
        "outputId": "e38bbfcb-860c-4f0e-93a2-7c82dd164352"
      },
      "source": [
        "insertLeft(r,4)"
      ],
      "execution_count": 103,
      "outputs": [
        {
          "output_type": "execute_result",
          "data": {
            "text/plain": [
              "[3, [4, [], []], []]"
            ]
          },
          "metadata": {
            "tags": []
          },
          "execution_count": 103
        }
      ]
    },
    {
      "cell_type": "code",
      "metadata": {
        "colab": {
          "base_uri": "https://localhost:8080/"
        },
        "id": "aoIsVaxXEDWW",
        "outputId": "21f0a028-3826-4e60-915c-ac8ee026f273"
      },
      "source": [
        "insertLeft(r,5)"
      ],
      "execution_count": 104,
      "outputs": [
        {
          "output_type": "execute_result",
          "data": {
            "text/plain": [
              "[3, [5, [4, [], []], []], []]"
            ]
          },
          "metadata": {
            "tags": []
          },
          "execution_count": 104
        }
      ]
    },
    {
      "cell_type": "code",
      "metadata": {
        "colab": {
          "base_uri": "https://localhost:8080/"
        },
        "id": "Qav-j-XLIGfr",
        "outputId": "37445052-a8fe-4a50-ab94-1e73aed2dd9e"
      },
      "source": [
        "insertRight(r,5)"
      ],
      "execution_count": 105,
      "outputs": [
        {
          "output_type": "execute_result",
          "data": {
            "text/plain": [
              "[3, [5, [4, [], []], []], [5, [], []]]"
            ]
          },
          "metadata": {
            "tags": []
          },
          "execution_count": 105
        }
      ]
    }
  ]
}