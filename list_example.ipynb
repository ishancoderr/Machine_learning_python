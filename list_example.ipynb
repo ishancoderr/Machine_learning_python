{
  "nbformat": 4,
  "nbformat_minor": 0,
  "metadata": {
    "colab": {
      "name": "Untitled21.ipynb",
      "provenance": [],
      "collapsed_sections": [],
      "authorship_tag": "ABX9TyNy80l6Gh391B21IbPJxeTj",
      "include_colab_link": true
    },
    "kernelspec": {
      "name": "python3",
      "display_name": "Python 3"
    },
    "language_info": {
      "name": "python"
    }
  },
  "cells": [
    {
      "cell_type": "markdown",
      "metadata": {
        "id": "view-in-github",
        "colab_type": "text"
      },
      "source": [
        "<a href=\"https://colab.research.google.com/github/ishancoderr/Machine_learning_python/blob/main/list_example.ipynb\" target=\"_parent\"><img src=\"https://colab.research.google.com/assets/colab-badge.svg\" alt=\"Open In Colab\"/></a>"
      ]
    },
    {
      "cell_type": "markdown",
      "metadata": {
        "id": "8CEHLgNZPhom"
      },
      "source": [
        "**Dynamic array implementation**"
      ]
    },
    {
      "cell_type": "code",
      "metadata": {
        "id": "GJeGQdsTPqm7"
      },
      "source": [
        "class M(object):\n",
        "  def public(self):\n",
        "    print ('Use Tab to see me!')\n",
        "\n",
        "  def _private(self):\n",
        "    print (\"You won't be able to Tab to see me\")"
      ],
      "execution_count": null,
      "outputs": []
    },
    {
      "cell_type": "code",
      "metadata": {
        "colab": {
          "base_uri": "https://localhost:8080/"
        },
        "id": "F8jEy3urQlf1",
        "outputId": "666b86da-30ce-48e4-c4e3-c50ffaa272b6"
      },
      "source": [
        "m=M()\n",
        "m._private()"
      ],
      "execution_count": null,
      "outputs": [
        {
          "output_type": "stream",
          "text": [
            "You won't be able to Tab to see me\n"
          ],
          "name": "stdout"
        }
      ]
    },
    {
      "cell_type": "code",
      "metadata": {
        "id": "SNauKjQORBOe"
      },
      "source": [
        "import ctypes\n",
        "\n",
        "class DynamicArray(object):\n",
        "  def __init__(self):\n",
        "    self.n=0\n",
        "    self.capacity=1\n",
        "    self.A=self.make_array(self.capacity)\n",
        "\n",
        "  def __len__(self):\n",
        "    return self.n\n",
        "\n",
        "  def __getitem__(self,k):\n",
        "    if not 0<= k<self.n:\n",
        "      return IndexError('k is out of bounds')\n",
        "\n",
        "      return self.A[k]\n",
        "\n",
        "  def append(self,ele):\n",
        "    if self.n ==self.capacity:\n",
        "      self._resize(2*self.capacity)\n",
        "    self.A[self.n]=ele\n",
        "    self.n+=1\n",
        "\n",
        "  def _resize(self,new_cap):\n",
        "    B=self.make_array(new_cap)\n",
        "\n",
        "    for k in range(self.n):\n",
        "      B[k]=self.A[k]\n",
        "    self.A=B\n",
        "    self.capacity=new_cap\n",
        "  def make_array(self,new_cap):\n",
        "    return(new_cap*ctypes.py_object)()\n",
        "\n",
        "\n"
      ],
      "execution_count": null,
      "outputs": []
    },
    {
      "cell_type": "code",
      "metadata": {
        "id": "N_jfCq0RSy3k"
      },
      "source": [
        "arr=DynamicArray()"
      ],
      "execution_count": null,
      "outputs": []
    },
    {
      "cell_type": "code",
      "metadata": {
        "id": "4rNaz72dUj7c"
      },
      "source": [
        "arr.append(1)"
      ],
      "execution_count": null,
      "outputs": []
    },
    {
      "cell_type": "code",
      "metadata": {
        "colab": {
          "base_uri": "https://localhost:8080/"
        },
        "id": "sTpGfPt3UpC7",
        "outputId": "5c8f842a-e16c-41c6-8b25-ead31b5ddf07"
      },
      "source": [
        "len(arr)"
      ],
      "execution_count": null,
      "outputs": [
        {
          "output_type": "execute_result",
          "data": {
            "text/plain": [
              "1"
            ]
          },
          "metadata": {
            "tags": []
          },
          "execution_count": 12
        }
      ]
    },
    {
      "cell_type": "markdown",
      "metadata": {
        "id": "-lysbc00wYCd"
      },
      "source": [
        "**Array pair sum**"
      ]
    },
    {
      "cell_type": "code",
      "metadata": {
        "id": "dI8j8l6swiRu"
      },
      "source": [
        "def unic_pairs(arr,k):\n",
        "  if len(arr)<2:\n",
        "    return\n",
        "  seen=set()\n",
        " \n",
        "  output=set()\n",
        "  for num in arr:\n",
        "    target=k-num\n",
        "    print(target)\n",
        "    if target not in seen:\n",
        "      seen.add(num)\n",
        "      print(seen)\n",
        "    else:\n",
        "      output.add((min(num,target),max(num,target)))\n",
        "\n",
        "  print('\\n'.join(map(str,list(output))))\n",
        "\n",
        "\n",
        "\n",
        "\n"
      ],
      "execution_count": null,
      "outputs": []
    },
    {
      "cell_type": "code",
      "metadata": {
        "colab": {
          "base_uri": "https://localhost:8080/"
        },
        "id": "-o_SjCXa53k7",
        "outputId": "bc57e166-273a-4ce1-ce0b-a618c3d7fb29"
      },
      "source": [
        "\n",
        "unic_pairs([1,3,2,2], 4)"
      ],
      "execution_count": null,
      "outputs": [
        {
          "output_type": "stream",
          "text": [
            "set()\n",
            "3\n",
            "{1}\n",
            "1\n",
            "2\n",
            "{1, 2}\n",
            "2\n",
            "(1, 3)\n",
            "(2, 2)\n"
          ],
          "name": "stdout"
        }
      ]
    },
    {
      "cell_type": "markdown",
      "metadata": {
        "id": "Ra4z7y8AI7gL"
      },
      "source": [
        "**Find the missing element**"
      ]
    },
    {
      "cell_type": "code",
      "metadata": {
        "id": "xBvRYn9SJDPq"
      },
      "source": [
        "def finder(arr1,arr2):\n",
        "  arr1.sort()\n",
        "  arr2.sort()\n",
        "\n",
        "  for num1,num2 in zip(arr1,arr2):\n",
        "    if num1 != num2:\n",
        "      return num1\n",
        "\n",
        "  return arr[-1] "
      ],
      "execution_count": null,
      "outputs": []
    },
    {
      "cell_type": "code",
      "metadata": {
        "colab": {
          "base_uri": "https://localhost:8080/"
        },
        "id": "7uP3-kLnW4s7",
        "outputId": "41775545-8df7-4339-e6b3-d77736d4fbc2"
      },
      "source": [
        "arr1=[1,2,3,5,6,7]\n",
        "arr2=[1,4,5,7,2]\n",
        "finder(arr1,arr2)"
      ],
      "execution_count": null,
      "outputs": [
        {
          "output_type": "execute_result",
          "data": {
            "text/plain": [
              "3"
            ]
          },
          "metadata": {
            "tags": []
          },
          "execution_count": 97
        }
      ]
    },
    {
      "cell_type": "code",
      "metadata": {
        "id": "UoodmwoAX-lU"
      },
      "source": [
        "import collections"
      ],
      "execution_count": null,
      "outputs": []
    },
    {
      "cell_type": "code",
      "metadata": {
        "id": "M3UhCPWMZCIS"
      },
      "source": [
        "def finder2(arr1,arr2):\n",
        "  d=collections.defaultdict(int)\n",
        "  for num in arr2:\n",
        "    d[num]+=1\n",
        "  for num in arr1:\n",
        "    if d[num]==0:\n",
        "      return num\n",
        "    else:\n",
        "      d[num]-=1"
      ],
      "execution_count": null,
      "outputs": []
    },
    {
      "cell_type": "code",
      "metadata": {
        "colab": {
          "base_uri": "https://localhost:8080/"
        },
        "id": "Dp11uzLZghEn",
        "outputId": "73c4b8b7-3431-4b0c-8430-6e691aed3ee8"
      },
      "source": [
        "arr1=[1,2,3,5,6,7]\n",
        "arr2=[1,4,5,7,2]\n",
        "finder2(arr1,arr2)"
      ],
      "execution_count": null,
      "outputs": [
        {
          "output_type": "execute_result",
          "data": {
            "text/plain": [
              "3"
            ]
          },
          "metadata": {
            "tags": []
          },
          "execution_count": 100
        }
      ]
    },
    {
      "cell_type": "markdown",
      "metadata": {
        "id": "Heb7f78yhxJX"
      },
      "source": [
        "**Sentence Reversal**"
      ]
    },
    {
      "cell_type": "code",
      "metadata": {
        "id": "up-3u-gkh_ol"
      },
      "source": [
        "def rev_word(s):\n",
        "  return \" \".join(reversed(s.split()))\n",
        "\n",
        "def rev_word2(s):\n",
        "  return \" \".join(s.split()[::-1])\n"
      ],
      "execution_count": null,
      "outputs": []
    },
    {
      "cell_type": "code",
      "metadata": {
        "colab": {
          "base_uri": "https://localhost:8080/",
          "height": 35
        },
        "id": "Jdc0aYLljqW1",
        "outputId": "274e08e3-55e5-4b4f-d898-ec4750a0e513"
      },
      "source": [
        "rev_word2(\"my name is ishan\")"
      ],
      "execution_count": null,
      "outputs": [
        {
          "output_type": "execute_result",
          "data": {
            "application/vnd.google.colaboratory.intrinsic+json": {
              "type": "string"
            },
            "text/plain": [
              "'ishan is name my'"
            ]
          },
          "metadata": {
            "tags": []
          },
          "execution_count": 106
        }
      ]
    },
    {
      "cell_type": "code",
      "metadata": {
        "id": "wfeoGk8EkmfF"
      },
      "source": [
        "def rev_word3(s):\n",
        "  words=[]\n",
        "  length=len(s)\n",
        "  spaces=[' ']\n",
        "  i=0\n",
        "  while i<length:\n",
        "    if s[i] not in spaces:\n",
        "      word_start=i\n",
        "      while i<length and s[i] not in spaces:\n",
        "        i+=1\n",
        "      words.append(s[word_start:i])\n",
        "    i+=1\n",
        "  return \" \".join(reversed(words))\n"
      ],
      "execution_count": null,
      "outputs": []
    },
    {
      "cell_type": "code",
      "metadata": {
        "colab": {
          "base_uri": "https://localhost:8080/",
          "height": 35
        },
        "id": "NiXRLNllowyD",
        "outputId": "baf4fb3c-96ca-4db7-d071-c15b15ab468f"
      },
      "source": [
        "rev_word3(\"my name is ishan\")"
      ],
      "execution_count": null,
      "outputs": [
        {
          "output_type": "execute_result",
          "data": {
            "application/vnd.google.colaboratory.intrinsic+json": {
              "type": "string"
            },
            "text/plain": [
              "'ishan is name my'"
            ]
          },
          "metadata": {
            "tags": []
          },
          "execution_count": 112
        }
      ]
    },
    {
      "cell_type": "markdown",
      "metadata": {
        "id": "4uIt-Rlipgxp"
      },
      "source": [
        "**string compression**"
      ]
    },
    {
      "cell_type": "code",
      "metadata": {
        "id": "UQPaI1acpoxy"
      },
      "source": [
        "r=\"\"\n",
        "l=len(s)\n",
        "if l==0:\n",
        "  return \"\"\n",
        "if l==1:\n",
        "  return s+\"1\"\n",
        "\n"
      ],
      "execution_count": null,
      "outputs": []
    }
  ]
}